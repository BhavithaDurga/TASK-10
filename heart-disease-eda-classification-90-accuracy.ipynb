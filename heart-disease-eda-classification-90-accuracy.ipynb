{
 "cells": [
  {
   "cell_type": "markdown",
   "id": "cloudy-sharp",
   "metadata": {
    "papermill": {
     "duration": 0.034868,
     "end_time": "2021-07-10T22:33:17.687314",
     "exception": false,
     "start_time": "2021-07-10T22:33:17.652446",
     "status": "completed"
    },
    "tags": []
   },
   "source": [
    "<div style=\"color:white;\n",
    "           display:fill;\n",
    "           border-radius:10px;\n",
    "           font-size:110%;\n",
    "           font-family:serif;\n",
    "           letter-spacing:0.5px;\n",
    "           background-color:#FF0000;\n",
    "           color:GhostWhite;\n",
    "           font-family:Sans-serif;\n",
    "            padding:5px 5px 5px 5px;\n",
    "           \">\n",
    "<h1 style=\"text-align:center;font-weight: bold;\">Heart Disease Dataset Exploratory Data Analysis & Classification Project</h1>\n",
    "\n",
    "</div>"
   ]
  },
  {
   "cell_type": "markdown",
   "id": "blond-edwards",
   "metadata": {
    "papermill": {
     "duration": 0.03376,
     "end_time": "2021-07-10T22:33:17.755389",
     "exception": false,
     "start_time": "2021-07-10T22:33:17.721629",
     "status": "completed"
    },
    "tags": []
   },
   "source": [
    "***"
   ]
  },
  {
   "cell_type": "markdown",
   "id": "fresh-agent",
   "metadata": {
    "papermill": {
     "duration": 0.03313,
     "end_time": "2021-07-10T22:33:17.821913",
     "exception": false,
     "start_time": "2021-07-10T22:33:17.788783",
     "status": "completed"
    },
    "tags": []
   },
   "source": [
    "The leading cause of death in the United States is heart disease, which is responsible for approximately 25% of all deaths in the country. This dataset details the vitals, conditions, and demographics of various patients, including whether or not they have heart disease. By analyzing the data and examining these features, it is possible to create classification models that can predict wheter or not a patient has heart disease. This notebook focuses on analyzing the dataset and creating a classification model with high accuracy in order to predict the likelihood of a future patient having heart disease."
   ]
  },
  {
   "cell_type": "markdown",
   "id": "outside-bennett",
   "metadata": {
    "papermill": {
     "duration": 0.033147,
     "end_time": "2021-07-10T22:33:17.888404",
     "exception": false,
     "start_time": "2021-07-10T22:33:17.855257",
     "status": "completed"
    },
    "tags": []
   },
   "source": [
    "![Stay Home](https://www.deccanherald.com/sites/dh/files/styles/article_detail/public/article_images/2019/11/20/heart-attack-1574189524.jpg?itok=brZDaNY7)\n",
    "[Source](https://www.deccanherald.com/opinion/panorama/the-rising-threat-of-heart-disease-777809.html)"
   ]
  },
  {
   "cell_type": "markdown",
   "id": "baking-genre",
   "metadata": {
    "papermill": {
     "duration": 0.033173,
     "end_time": "2021-07-10T22:33:17.955679",
     "exception": false,
     "start_time": "2021-07-10T22:33:17.922506",
     "status": "completed"
    },
    "tags": []
   },
   "source": [
    "<div style=\"color:white;\n",
    "           display:fill;\n",
    "           border-radius:10px;\n",
    "           font-size:90%;\n",
    "           font-family:serif;\n",
    "           letter-spacing:0.5px;\n",
    "           background-color:#FF0000;\n",
    "           color:GhostWhite;\n",
    "           font-family:Sans-serif;\n",
    "            padding:5px 5px 5px 5px;\n",
    "           \">\n",
    "<h1 style=\"text-align:center;font-weight: bold;\">Importing Libraries</h1>\n",
    "\n",
    "\n",
    "</div>"
   ]
  },
  {
   "cell_type": "markdown",
   "id": "cellular-drove",
   "metadata": {
    "papermill": {
     "duration": 0.033007,
     "end_time": "2021-07-10T22:33:18.022025",
     "exception": false,
     "start_time": "2021-07-10T22:33:17.989018",
     "status": "completed"
    },
    "tags": []
   },
   "source": [
    "***"
   ]
  },
  {
   "cell_type": "code",
   "execution_count": 13,
   "id": "clear-satin",
   "metadata": {
    "_cell_guid": "b1076dfc-b9ad-4769-8c92-a6c4dae69d19",
    "_kg_hide-input": true,
    "_uuid": "8f2839f25d086af736a60e9eeb907d3b93b6e0e5",
    "execution": {
     "iopub.execute_input": "2021-07-10T22:33:18.098394Z",
     "iopub.status.busy": "2021-07-10T22:33:18.097800Z",
     "iopub.status.idle": "2021-07-10T22:33:18.110161Z",
     "shell.execute_reply": "2021-07-10T22:33:18.110603Z",
     "shell.execute_reply.started": "2021-07-10T22:30:49.459086Z"
    },
    "papermill": {
     "duration": 0.055193,
     "end_time": "2021-07-10T22:33:18.110888",
     "exception": false,
     "start_time": "2021-07-10T22:33:18.055695",
     "status": "completed"
    },
    "tags": []
   },
   "outputs": [
    {
     "name": "stdout",
     "output_type": "stream",
     "text": [
      "Setup Complete.\n"
     ]
    }
   ],
   "source": [
    "# This Python 3 environment comes with many helpful analytics libraries installed\n",
    "# It is defined by the kaggle/python Docker image: https://github.com/kaggle/docker-python\n",
    "# For example, here's several helpful packages to load\n",
    "\n",
    "import numpy as np # linear algebra\n",
    "import pandas as pd # data processing, CSV file I/O (e.g. pd.read_csv)\n",
    "\n",
    "# Input data files are available in the read-only \"../input/\" directory\n",
    "# For example, running this (by clicking run or pressing Shift+Enter) will list all files under the input directory\n",
    "\n",
    "import os\n",
    "for dirname, _, filenames in os.walk('/kaggle/input'):\n",
    "    for filename in filenames:\n",
    "        print(os.path.join(dirname, filename))\n",
    "\n",
    "print(\"Setup Complete.\")\n",
    "# You can write up to 20GB to the current directory (/kaggle/working/) that gets preserved as output when you create a version using \"Save & Run All\" \n",
    "# You can also write temporary files to /kaggle/temp/, but they won't be saved outside of the current session"
   ]
  },
  {
   "cell_type": "code",
   "execution_count": 11,
   "id": "complimentary-subsection",
   "metadata": {
    "_kg_hide-input": true,
    "execution": {
     "iopub.execute_input": "2021-07-10T22:33:18.186966Z",
     "iopub.status.busy": "2021-07-10T22:33:18.186295Z",
     "iopub.status.idle": "2021-07-10T22:33:22.283409Z",
     "shell.execute_reply": "2021-07-10T22:33:22.284102Z",
     "shell.execute_reply.started": "2021-07-10T22:30:49.477412Z"
    },
    "papermill": {
     "duration": 4.138867,
     "end_time": "2021-07-10T22:33:22.284299",
     "exception": false,
     "start_time": "2021-07-10T22:33:18.145432",
     "status": "completed"
    },
    "tags": []
   },
   "outputs": [
    {
     "ename": "ModuleNotFoundError",
     "evalue": "No module named 'plotly'",
     "output_type": "error",
     "traceback": [
      "\u001b[1;31m---------------------------------------------------------------------------\u001b[0m",
      "\u001b[1;31mModuleNotFoundError\u001b[0m                       Traceback (most recent call last)",
      "\u001b[1;32m<ipython-input-11-c74d7a8174a1>\u001b[0m in \u001b[0;36m<module>\u001b[1;34m\u001b[0m\n\u001b[0;32m      3\u001b[0m \u001b[0mplt\u001b[0m\u001b[1;33m.\u001b[0m\u001b[0mstyle\u001b[0m\u001b[1;33m.\u001b[0m\u001b[0muse\u001b[0m\u001b[1;33m(\u001b[0m\u001b[1;34m'default'\u001b[0m\u001b[1;33m)\u001b[0m\u001b[1;33m\u001b[0m\u001b[1;33m\u001b[0m\u001b[0m\n\u001b[0;32m      4\u001b[0m \u001b[1;32mimport\u001b[0m \u001b[0mseaborn\u001b[0m \u001b[1;32mas\u001b[0m \u001b[0msns\u001b[0m\u001b[1;33m\u001b[0m\u001b[1;33m\u001b[0m\u001b[0m\n\u001b[1;32m----> 5\u001b[1;33m \u001b[1;32mimport\u001b[0m \u001b[0mplotly\u001b[0m\u001b[1;33m.\u001b[0m\u001b[0mfigure_factory\u001b[0m \u001b[1;32mas\u001b[0m \u001b[0mff\u001b[0m\u001b[1;33m\u001b[0m\u001b[1;33m\u001b[0m\u001b[0m\n\u001b[0m\u001b[0;32m      6\u001b[0m \u001b[1;32mfrom\u001b[0m \u001b[0mplotly\u001b[0m\u001b[1;33m.\u001b[0m\u001b[0moffline\u001b[0m \u001b[1;32mimport\u001b[0m \u001b[0mplot\u001b[0m\u001b[1;33m,\u001b[0m \u001b[0miplot\u001b[0m\u001b[1;33m,\u001b[0m \u001b[0minit_notebook_mode\u001b[0m\u001b[1;33m\u001b[0m\u001b[1;33m\u001b[0m\u001b[0m\n\u001b[0;32m      7\u001b[0m \u001b[0minit_notebook_mode\u001b[0m\u001b[1;33m(\u001b[0m\u001b[0mconnected\u001b[0m\u001b[1;33m=\u001b[0m\u001b[1;32mTrue\u001b[0m\u001b[1;33m)\u001b[0m\u001b[1;33m\u001b[0m\u001b[1;33m\u001b[0m\u001b[0m\n",
      "\u001b[1;31mModuleNotFoundError\u001b[0m: No module named 'plotly'"
     ]
    }
   ],
   "source": [
    "# Importing Libraries\n",
    "import matplotlib.pyplot as plt\n",
    "plt.style.use('default')\n",
    "import seaborn as sns\n",
    "import plotly.figure_factory as ff\n",
    "from plotly.offline import plot, iplot, init_notebook_mode\n",
    "init_notebook_mode(connected=True)\n",
    "from sklearn.preprocessing import StandardScaler\n",
    "from sklearn.dummy import DummyClassifier\n",
    "from sklearn.model_selection import train_test_split, cross_val_score, GridSearchCV\n",
    "from sklearn.metrics import confusion_matrix,accuracy_score,roc_curve,roc_auc_score,classification_report,f1_score\n",
    "from sklearn.linear_model import LogisticRegression\n",
    "from sklearn.naive_bayes import GaussianNB\n",
    "from xgboost import XGBClassifier\n",
    "from sklearn.ensemble import RandomForestClassifier\n",
    "from sklearn.tree import DecisionTreeClassifier\n",
    "from sklearn.neighbors import KNeighborsClassifier\n",
    "from sklearn.naive_bayes import GaussianNB\n",
    "from sklearn.svm import SVC\n",
    "from mlxtend.classifier import StackingCVClassifier\n",
    "import xgboost as xgb\n",
    "import warnings\n",
    "warnings.filterwarnings(\"ignore\")\n",
    "\n",
    "print(\"Library Setup Complete.\")"
   ]
  },
  {
   "cell_type": "markdown",
   "id": "cloudy-freeze",
   "metadata": {
    "papermill": {
     "duration": 0.034705,
     "end_time": "2021-07-10T22:33:22.353416",
     "exception": false,
     "start_time": "2021-07-10T22:33:22.318711",
     "status": "completed"
    },
    "tags": []
   },
   "source": [
    "<div style=\"color:white;\n",
    "           display:fill;\n",
    "           border-radius:10px;\n",
    "           font-size:90%;\n",
    "           font-family:serif;\n",
    "           letter-spacing:0.5px;\n",
    "           background-color:#FF0000;\n",
    "           color:GhostWhite;\n",
    "           font-family:Sans-serif;\n",
    "            padding:5px 5px 5px 5px;\n",
    "           \">\n",
    "<h1 style=\"text-align:center;font-weight: bold;\">Reading & Examining Data</h1>\n",
    "\n",
    "\n",
    "</div>"
   ]
  },
  {
   "cell_type": "markdown",
   "id": "objective-highlight",
   "metadata": {
    "papermill": {
     "duration": 0.034324,
     "end_time": "2021-07-10T22:33:22.421954",
     "exception": false,
     "start_time": "2021-07-10T22:33:22.387630",
     "status": "completed"
    },
    "tags": []
   },
   "source": [
    "***"
   ]
  },
  {
   "cell_type": "code",
   "execution_count": 14,
   "id": "dependent-virtue",
   "metadata": {
    "execution": {
     "iopub.execute_input": "2021-07-10T22:33:22.493767Z",
     "iopub.status.busy": "2021-07-10T22:33:22.493192Z",
     "iopub.status.idle": "2021-07-10T22:33:22.511076Z",
     "shell.execute_reply": "2021-07-10T22:33:22.510447Z",
     "shell.execute_reply.started": "2021-07-10T22:30:49.492170Z"
    },
    "papermill": {
     "duration": 0.054863,
     "end_time": "2021-07-10T22:33:22.511223",
     "exception": false,
     "start_time": "2021-07-10T22:33:22.456360",
     "status": "completed"
    },
    "tags": []
   },
   "outputs": [
    {
     "name": "stdout",
     "output_type": "stream",
     "text": [
      "Read Complete.\n"
     ]
    }
   ],
   "source": [
    "# Reading Data\n",
    "heart_filepath =  \"heart.csv\"\n",
    "heart_data = pd.read_csv(heart_filepath)\n",
    "print(\"Read Complete.\")"
   ]
  },
  {
   "cell_type": "code",
   "execution_count": 15,
   "id": "lesser-cartoon",
   "metadata": {
    "execution": {
     "iopub.execute_input": "2021-07-10T22:33:22.591454Z",
     "iopub.status.busy": "2021-07-10T22:33:22.590853Z",
     "iopub.status.idle": "2021-07-10T22:33:22.611263Z",
     "shell.execute_reply": "2021-07-10T22:33:22.610752Z",
     "shell.execute_reply.started": "2021-07-10T22:30:49.511984Z"
    },
    "papermill": {
     "duration": 0.065124,
     "end_time": "2021-07-10T22:33:22.611407",
     "exception": false,
     "start_time": "2021-07-10T22:33:22.546283",
     "status": "completed"
    },
    "tags": []
   },
   "outputs": [
    {
     "data": {
      "text/html": [
       "<div>\n",
       "<style scoped>\n",
       "    .dataframe tbody tr th:only-of-type {\n",
       "        vertical-align: middle;\n",
       "    }\n",
       "\n",
       "    .dataframe tbody tr th {\n",
       "        vertical-align: top;\n",
       "    }\n",
       "\n",
       "    .dataframe thead th {\n",
       "        text-align: right;\n",
       "    }\n",
       "</style>\n",
       "<table border=\"1\" class=\"dataframe\">\n",
       "  <thead>\n",
       "    <tr style=\"text-align: right;\">\n",
       "      <th></th>\n",
       "      <th>age</th>\n",
       "      <th>sex</th>\n",
       "      <th>cp</th>\n",
       "      <th>trtbps</th>\n",
       "      <th>chol</th>\n",
       "      <th>fbs</th>\n",
       "      <th>restecg</th>\n",
       "      <th>thalachh</th>\n",
       "      <th>exng</th>\n",
       "      <th>oldpeak</th>\n",
       "      <th>slp</th>\n",
       "      <th>caa</th>\n",
       "      <th>thall</th>\n",
       "      <th>output</th>\n",
       "    </tr>\n",
       "  </thead>\n",
       "  <tbody>\n",
       "    <tr>\n",
       "      <th>0</th>\n",
       "      <td>63</td>\n",
       "      <td>1</td>\n",
       "      <td>3</td>\n",
       "      <td>145</td>\n",
       "      <td>233</td>\n",
       "      <td>1</td>\n",
       "      <td>0</td>\n",
       "      <td>150</td>\n",
       "      <td>0</td>\n",
       "      <td>2.3</td>\n",
       "      <td>0</td>\n",
       "      <td>0</td>\n",
       "      <td>1</td>\n",
       "      <td>1</td>\n",
       "    </tr>\n",
       "    <tr>\n",
       "      <th>1</th>\n",
       "      <td>37</td>\n",
       "      <td>1</td>\n",
       "      <td>2</td>\n",
       "      <td>130</td>\n",
       "      <td>250</td>\n",
       "      <td>0</td>\n",
       "      <td>1</td>\n",
       "      <td>187</td>\n",
       "      <td>0</td>\n",
       "      <td>3.5</td>\n",
       "      <td>0</td>\n",
       "      <td>0</td>\n",
       "      <td>2</td>\n",
       "      <td>1</td>\n",
       "    </tr>\n",
       "    <tr>\n",
       "      <th>2</th>\n",
       "      <td>41</td>\n",
       "      <td>0</td>\n",
       "      <td>1</td>\n",
       "      <td>130</td>\n",
       "      <td>204</td>\n",
       "      <td>0</td>\n",
       "      <td>0</td>\n",
       "      <td>172</td>\n",
       "      <td>0</td>\n",
       "      <td>1.4</td>\n",
       "      <td>2</td>\n",
       "      <td>0</td>\n",
       "      <td>2</td>\n",
       "      <td>1</td>\n",
       "    </tr>\n",
       "    <tr>\n",
       "      <th>3</th>\n",
       "      <td>56</td>\n",
       "      <td>1</td>\n",
       "      <td>1</td>\n",
       "      <td>120</td>\n",
       "      <td>236</td>\n",
       "      <td>0</td>\n",
       "      <td>1</td>\n",
       "      <td>178</td>\n",
       "      <td>0</td>\n",
       "      <td>0.8</td>\n",
       "      <td>2</td>\n",
       "      <td>0</td>\n",
       "      <td>2</td>\n",
       "      <td>1</td>\n",
       "    </tr>\n",
       "    <tr>\n",
       "      <th>4</th>\n",
       "      <td>57</td>\n",
       "      <td>0</td>\n",
       "      <td>0</td>\n",
       "      <td>120</td>\n",
       "      <td>354</td>\n",
       "      <td>0</td>\n",
       "      <td>1</td>\n",
       "      <td>163</td>\n",
       "      <td>1</td>\n",
       "      <td>0.6</td>\n",
       "      <td>2</td>\n",
       "      <td>0</td>\n",
       "      <td>2</td>\n",
       "      <td>1</td>\n",
       "    </tr>\n",
       "  </tbody>\n",
       "</table>\n",
       "</div>"
      ],
      "text/plain": [
       "   age  sex  cp  trtbps  chol  fbs  restecg  thalachh  exng  oldpeak  slp  \\\n",
       "0   63    1   3     145   233    1        0       150     0      2.3    0   \n",
       "1   37    1   2     130   250    0        1       187     0      3.5    0   \n",
       "2   41    0   1     130   204    0        0       172     0      1.4    2   \n",
       "3   56    1   1     120   236    0        1       178     0      0.8    2   \n",
       "4   57    0   0     120   354    0        1       163     1      0.6    2   \n",
       "\n",
       "   caa  thall  output  \n",
       "0    0      1       1  \n",
       "1    0      2       1  \n",
       "2    0      2       1  \n",
       "3    0      2       1  \n",
       "4    0      2       1  "
      ]
     },
     "execution_count": 15,
     "metadata": {},
     "output_type": "execute_result"
    }
   ],
   "source": [
    "# Examining Data\n",
    "heart_data.head()"
   ]
  },
  {
   "cell_type": "code",
   "execution_count": 16,
   "id": "sophisticated-corps",
   "metadata": {
    "execution": {
     "iopub.execute_input": "2021-07-10T22:33:22.684031Z",
     "iopub.status.busy": "2021-07-10T22:33:22.683460Z",
     "iopub.status.idle": "2021-07-10T22:33:22.695735Z",
     "shell.execute_reply": "2021-07-10T22:33:22.696177Z",
     "shell.execute_reply.started": "2021-07-10T22:30:49.537051Z"
    },
    "papermill": {
     "duration": 0.050034,
     "end_time": "2021-07-10T22:33:22.696343",
     "exception": false,
     "start_time": "2021-07-10T22:33:22.646309",
     "status": "completed"
    },
    "tags": []
   },
   "outputs": [
    {
     "data": {
      "text/html": [
       "<div>\n",
       "<style scoped>\n",
       "    .dataframe tbody tr th:only-of-type {\n",
       "        vertical-align: middle;\n",
       "    }\n",
       "\n",
       "    .dataframe tbody tr th {\n",
       "        vertical-align: top;\n",
       "    }\n",
       "\n",
       "    .dataframe thead th {\n",
       "        text-align: right;\n",
       "    }\n",
       "</style>\n",
       "<table border=\"1\" class=\"dataframe\">\n",
       "  <thead>\n",
       "    <tr style=\"text-align: right;\">\n",
       "      <th></th>\n",
       "      <th>age</th>\n",
       "      <th>sex</th>\n",
       "      <th>cp</th>\n",
       "      <th>trtbps</th>\n",
       "      <th>chol</th>\n",
       "      <th>fbs</th>\n",
       "      <th>restecg</th>\n",
       "      <th>thalachh</th>\n",
       "      <th>exng</th>\n",
       "      <th>oldpeak</th>\n",
       "      <th>slp</th>\n",
       "      <th>caa</th>\n",
       "      <th>thall</th>\n",
       "      <th>output</th>\n",
       "    </tr>\n",
       "  </thead>\n",
       "  <tbody>\n",
       "    <tr>\n",
       "      <th>298</th>\n",
       "      <td>57</td>\n",
       "      <td>0</td>\n",
       "      <td>0</td>\n",
       "      <td>140</td>\n",
       "      <td>241</td>\n",
       "      <td>0</td>\n",
       "      <td>1</td>\n",
       "      <td>123</td>\n",
       "      <td>1</td>\n",
       "      <td>0.2</td>\n",
       "      <td>1</td>\n",
       "      <td>0</td>\n",
       "      <td>3</td>\n",
       "      <td>0</td>\n",
       "    </tr>\n",
       "    <tr>\n",
       "      <th>299</th>\n",
       "      <td>45</td>\n",
       "      <td>1</td>\n",
       "      <td>3</td>\n",
       "      <td>110</td>\n",
       "      <td>264</td>\n",
       "      <td>0</td>\n",
       "      <td>1</td>\n",
       "      <td>132</td>\n",
       "      <td>0</td>\n",
       "      <td>1.2</td>\n",
       "      <td>1</td>\n",
       "      <td>0</td>\n",
       "      <td>3</td>\n",
       "      <td>0</td>\n",
       "    </tr>\n",
       "    <tr>\n",
       "      <th>300</th>\n",
       "      <td>68</td>\n",
       "      <td>1</td>\n",
       "      <td>0</td>\n",
       "      <td>144</td>\n",
       "      <td>193</td>\n",
       "      <td>1</td>\n",
       "      <td>1</td>\n",
       "      <td>141</td>\n",
       "      <td>0</td>\n",
       "      <td>3.4</td>\n",
       "      <td>1</td>\n",
       "      <td>2</td>\n",
       "      <td>3</td>\n",
       "      <td>0</td>\n",
       "    </tr>\n",
       "    <tr>\n",
       "      <th>301</th>\n",
       "      <td>57</td>\n",
       "      <td>1</td>\n",
       "      <td>0</td>\n",
       "      <td>130</td>\n",
       "      <td>131</td>\n",
       "      <td>0</td>\n",
       "      <td>1</td>\n",
       "      <td>115</td>\n",
       "      <td>1</td>\n",
       "      <td>1.2</td>\n",
       "      <td>1</td>\n",
       "      <td>1</td>\n",
       "      <td>3</td>\n",
       "      <td>0</td>\n",
       "    </tr>\n",
       "    <tr>\n",
       "      <th>302</th>\n",
       "      <td>57</td>\n",
       "      <td>0</td>\n",
       "      <td>1</td>\n",
       "      <td>130</td>\n",
       "      <td>236</td>\n",
       "      <td>0</td>\n",
       "      <td>0</td>\n",
       "      <td>174</td>\n",
       "      <td>0</td>\n",
       "      <td>0.0</td>\n",
       "      <td>1</td>\n",
       "      <td>1</td>\n",
       "      <td>2</td>\n",
       "      <td>0</td>\n",
       "    </tr>\n",
       "  </tbody>\n",
       "</table>\n",
       "</div>"
      ],
      "text/plain": [
       "     age  sex  cp  trtbps  chol  fbs  restecg  thalachh  exng  oldpeak  slp  \\\n",
       "298   57    0   0     140   241    0        1       123     1      0.2    1   \n",
       "299   45    1   3     110   264    0        1       132     0      1.2    1   \n",
       "300   68    1   0     144   193    1        1       141     0      3.4    1   \n",
       "301   57    1   0     130   131    0        1       115     1      1.2    1   \n",
       "302   57    0   1     130   236    0        0       174     0      0.0    1   \n",
       "\n",
       "     caa  thall  output  \n",
       "298    0      3       0  \n",
       "299    0      3       0  \n",
       "300    2      3       0  \n",
       "301    1      3       0  \n",
       "302    1      2       0  "
      ]
     },
     "execution_count": 16,
     "metadata": {},
     "output_type": "execute_result"
    }
   ],
   "source": [
    "# Examining Data\n",
    "heart_data.tail()"
   ]
  },
  {
   "cell_type": "code",
   "execution_count": null,
   "id": "auburn-private",
   "metadata": {
    "execution": {
     "iopub.execute_input": "2021-07-10T22:33:22.770861Z",
     "iopub.status.busy": "2021-07-10T22:33:22.770286Z",
     "iopub.status.idle": "2021-07-10T22:33:22.775858Z",
     "shell.execute_reply": "2021-07-10T22:33:22.775235Z",
     "shell.execute_reply.started": "2021-07-10T22:30:49.561441Z"
    },
    "papermill": {
     "duration": 0.043724,
     "end_time": "2021-07-10T22:33:22.775995",
     "exception": false,
     "start_time": "2021-07-10T22:33:22.732271",
     "status": "completed"
    },
    "tags": []
   },
   "outputs": [],
   "source": [
    "# Determining size\n",
    "heart_data.shape"
   ]
  },
  {
   "cell_type": "code",
   "execution_count": null,
   "id": "clear-paste",
   "metadata": {
    "execution": {
     "iopub.execute_input": "2021-07-10T22:33:22.857933Z",
     "iopub.status.busy": "2021-07-10T22:33:22.857296Z",
     "iopub.status.idle": "2021-07-10T22:33:22.900690Z",
     "shell.execute_reply": "2021-07-10T22:33:22.901141Z",
     "shell.execute_reply.started": "2021-07-10T22:30:49.575433Z"
    },
    "papermill": {
     "duration": 0.089341,
     "end_time": "2021-07-10T22:33:22.901303",
     "exception": false,
     "start_time": "2021-07-10T22:33:22.811962",
     "status": "completed"
    },
    "tags": []
   },
   "outputs": [],
   "source": [
    "# Examining statistics\n",
    "heart_data.describe()"
   ]
  },
  {
   "cell_type": "code",
   "execution_count": null,
   "id": "genetic-block",
   "metadata": {
    "execution": {
     "iopub.execute_input": "2021-07-10T22:33:22.981294Z",
     "iopub.status.busy": "2021-07-10T22:33:22.980722Z",
     "iopub.status.idle": "2021-07-10T22:33:22.983140Z",
     "shell.execute_reply": "2021-07-10T22:33:22.983650Z",
     "shell.execute_reply.started": "2021-07-10T22:30:49.639566Z"
    },
    "papermill": {
     "duration": 0.046033,
     "end_time": "2021-07-10T22:33:22.983817",
     "exception": false,
     "start_time": "2021-07-10T22:33:22.937784",
     "status": "completed"
    },
    "tags": []
   },
   "outputs": [],
   "source": [
    "# Determining data types\n",
    "heart_data.dtypes"
   ]
  },
  {
   "cell_type": "code",
   "execution_count": null,
   "id": "outdoor-antenna",
   "metadata": {
    "execution": {
     "iopub.execute_input": "2021-07-10T22:33:23.065247Z",
     "iopub.status.busy": "2021-07-10T22:33:23.064614Z",
     "iopub.status.idle": "2021-07-10T22:33:23.067237Z",
     "shell.execute_reply": "2021-07-10T22:33:23.067713Z",
     "shell.execute_reply.started": "2021-07-10T22:30:49.648093Z"
    },
    "papermill": {
     "duration": 0.047428,
     "end_time": "2021-07-10T22:33:23.067884",
     "exception": false,
     "start_time": "2021-07-10T22:33:23.020456",
     "status": "completed"
    },
    "tags": []
   },
   "outputs": [],
   "source": [
    "# Looking for unfilled values\n",
    "heart_data.isnull().sum()"
   ]
  },
  {
   "cell_type": "markdown",
   "id": "higher-handy",
   "metadata": {
    "papermill": {
     "duration": 0.037414,
     "end_time": "2021-07-10T22:33:23.142766",
     "exception": false,
     "start_time": "2021-07-10T22:33:23.105352",
     "status": "completed"
    },
    "tags": []
   },
   "source": [
    "<div style=\"color:white;\n",
    "           display:fill;\n",
    "           border-radius:10px;\n",
    "           font-size:90%;\n",
    "           font-family:serif;\n",
    "           letter-spacing:0.5px;\n",
    "           background-color:#FF0000;\n",
    "           color:GhostWhite;\n",
    "           font-family:Sans-serif;\n",
    "            padding:5px 5px 5px 5px;\n",
    "           \">\n",
    "<h1 style=\"text-align:center;font-weight: bold;\">Univariate Analysis</h1>\n",
    "\n",
    "\n",
    "</div>"
   ]
  },
  {
   "cell_type": "markdown",
   "id": "institutional-washington",
   "metadata": {
    "papermill": {
     "duration": 0.036902,
     "end_time": "2021-07-10T22:33:23.216142",
     "exception": false,
     "start_time": "2021-07-10T22:33:23.179240",
     "status": "completed"
    },
    "tags": []
   },
   "source": [
    "***"
   ]
  },
  {
   "cell_type": "code",
   "execution_count": null,
   "id": "productive-demand",
   "metadata": {
    "execution": {
     "iopub.execute_input": "2021-07-10T22:33:23.292806Z",
     "iopub.status.busy": "2021-07-10T22:33:23.292166Z",
     "iopub.status.idle": "2021-07-10T22:33:23.799336Z",
     "shell.execute_reply": "2021-07-10T22:33:23.799832Z",
     "shell.execute_reply.started": "2021-07-10T22:30:49.666500Z"
    },
    "papermill": {
     "duration": 0.546936,
     "end_time": "2021-07-10T22:33:23.799993",
     "exception": false,
     "start_time": "2021-07-10T22:33:23.253057",
     "status": "completed"
    },
    "tags": []
   },
   "outputs": [],
   "source": [
    "# Age distribution\n",
    "plt.figure(figsize=(20, 10))\n",
    "plt.title(\"Age of Patients\")\n",
    "plt.xlabel(\"Age\")\n",
    "sns.countplot(x=heart_data[\"age\"])"
   ]
  },
  {
   "cell_type": "code",
   "execution_count": null,
   "id": "threatened-florist",
   "metadata": {
    "execution": {
     "iopub.execute_input": "2021-07-10T22:33:23.880160Z",
     "iopub.status.busy": "2021-07-10T22:33:23.879606Z",
     "iopub.status.idle": "2021-07-10T22:33:24.229517Z",
     "shell.execute_reply": "2021-07-10T22:33:24.230019Z",
     "shell.execute_reply.started": "2021-07-10T22:30:50.240515Z"
    },
    "papermill": {
     "duration": 0.39098,
     "end_time": "2021-07-10T22:33:24.230203",
     "exception": false,
     "start_time": "2021-07-10T22:33:23.839223",
     "status": "completed"
    },
    "tags": []
   },
   "outputs": [],
   "source": [
    "# Sex distribution\n",
    "plt.figure(figsize=(20,10))\n",
    "plt.subplot(1,2,1)\n",
    "sex_labels = ['Male', 'Female']\n",
    "sex_explode = (0.1, 0.1)\n",
    "plt.pie(heart_data['sex'].value_counts(), labels = sex_labels, startangle=90, shadow=True, explode= sex_explode, autopct='%1.1f%%', colors = ['blue', 'pink'])\n",
    "plt.title(\"Sex of Patients\")\n",
    "plt.legend(loc = \"lower right\")\n",
    "plt.subplot(1,2,2)\n",
    "heart_data['sex'].value_counts().plot(kind= 'bar',color=['blue', 'pink'])\n",
    "plt.ylabel(\"Count\")\n",
    "plt.xticks()"
   ]
  },
  {
   "cell_type": "code",
   "execution_count": null,
   "id": "fleet-butter",
   "metadata": {
    "execution": {
     "iopub.execute_input": "2021-07-10T22:33:24.326500Z",
     "iopub.status.busy": "2021-07-10T22:33:24.325679Z",
     "iopub.status.idle": "2021-07-10T22:33:24.330704Z",
     "shell.execute_reply": "2021-07-10T22:33:24.329745Z",
     "shell.execute_reply.started": "2021-07-10T22:30:50.608823Z"
    },
    "papermill": {
     "duration": 0.060217,
     "end_time": "2021-07-10T22:33:24.330911",
     "exception": false,
     "start_time": "2021-07-10T22:33:24.270694",
     "status": "completed"
    },
    "tags": []
   },
   "outputs": [],
   "source": [
    "# Assigning meaning to chest pain values\n",
    "cp_data = heart_data[\"cp\"].value_counts().reset_index()\n",
    "cp_data\n",
    "cp_data['index'][0] = 'asymptomatic'\n",
    "cp_data['index'][1] = 'non-anginal'\n",
    "cp_data['index'][2] = 'atypical'\n",
    "cp_data['index'][3] = 'typical'\n",
    "cp_data"
   ]
  },
  {
   "cell_type": "code",
   "execution_count": null,
   "id": "sophisticated-yield",
   "metadata": {
    "execution": {
     "iopub.execute_input": "2021-07-10T22:33:24.567022Z",
     "iopub.status.busy": "2021-07-10T22:33:24.420890Z",
     "iopub.status.idle": "2021-07-10T22:33:24.904664Z",
     "shell.execute_reply": "2021-07-10T22:33:24.905096Z",
     "shell.execute_reply.started": "2021-07-10T22:30:50.627302Z"
    },
    "papermill": {
     "duration": 0.531552,
     "end_time": "2021-07-10T22:33:24.905260",
     "exception": false,
     "start_time": "2021-07-10T22:33:24.373708",
     "status": "completed"
    },
    "tags": []
   },
   "outputs": [],
   "source": [
    "# Chest pain distribution\n",
    "plt.figure(figsize=(20,10))\n",
    "plt.subplot(1,2,1)\n",
    "cp_labels = ['asymptomatic', 'non-anginal', 'atypical', 'typical']\n",
    "cp_explode = (0.1, 0.1, 0.1, 0.1)\n",
    "plt.pie(heart_data['cp'].value_counts(), labels = cp_labels, startangle= 90, shadow= True, explode= cp_explode, autopct='%1.1f%%')\n",
    "plt.title(\"Type of Chest Pain\")\n",
    "plt.legend(loc = 'lower left')\n",
    "plt.subplot(1,2,2)\n",
    "sns.barplot(x=cp_data[\"index\"],y=cp_data[\"cp\"])\n",
    "plt.xticks(rotation=0)\n",
    "plt.ylabel(\"Count\")\n",
    "plt.xlabel(\"\")"
   ]
  },
  {
   "cell_type": "code",
   "execution_count": null,
   "id": "eleven-ambassador",
   "metadata": {
    "execution": {
     "iopub.execute_input": "2021-07-10T22:33:25.020227Z",
     "iopub.status.busy": "2021-07-10T22:33:25.014071Z",
     "iopub.status.idle": "2021-07-10T22:33:25.479524Z",
     "shell.execute_reply": "2021-07-10T22:33:25.478915Z",
     "shell.execute_reply.started": "2021-07-10T22:30:51.049247Z"
    },
    "papermill": {
     "duration": 0.530592,
     "end_time": "2021-07-10T22:33:25.479683",
     "exception": false,
     "start_time": "2021-07-10T22:33:24.949091",
     "status": "completed"
    },
    "tags": []
   },
   "outputs": [],
   "source": [
    "# Blood pressure and heart rate distribution\n",
    "plt.figure(figsize=(20,10))\n",
    "plt.subplot(1,2,1)\n",
    "sns.distplot(heart_data['trtbps'], kde=True, color = 'magenta')\n",
    "plt.xlabel(\"Resting Blood Pressure (mmHg)\")\n",
    "plt.subplot(1,2,2)\n",
    "sns.distplot(heart_data['thalachh'], kde=True, color = 'teal')\n",
    "plt.xlabel(\"Maximum Heart Rate Achieved (bpm)\")"
   ]
  },
  {
   "cell_type": "code",
   "execution_count": null,
   "id": "absolute-conflict",
   "metadata": {
    "execution": {
     "iopub.execute_input": "2021-07-10T22:33:25.601647Z",
     "iopub.status.busy": "2021-07-10T22:33:25.600649Z",
     "iopub.status.idle": "2021-07-10T22:33:25.967521Z",
     "shell.execute_reply": "2021-07-10T22:33:25.968090Z",
     "shell.execute_reply.started": "2021-07-10T22:30:51.603151Z"
    },
    "papermill": {
     "duration": 0.441183,
     "end_time": "2021-07-10T22:33:25.968306",
     "exception": false,
     "start_time": "2021-07-10T22:33:25.527123",
     "status": "completed"
    },
    "tags": []
   },
   "outputs": [],
   "source": [
    "# Cholesterol and fasting blood sugar distribution\n",
    "plt.figure(figsize=(20,10))\n",
    "plt.subplot(1,2,1)\n",
    "sns.distplot(heart_data['chol'], kde=True, color = 'Gold')\n",
    "\n",
    "plt.xlabel(\"Cholesterol (mg/dL)\")\n",
    "plt.subplot(1,2,2)\n",
    "fbs_labels = ['False', 'True']\n",
    "fbs_explode = (0.1, 0.1)\n",
    "fbs_colors = ['lime', 'grey']\n",
    "plt.pie(heart_data['fbs'].value_counts(), labels = fbs_labels, startangle=90, shadow=True, explode= fbs_explode, autopct='%1.1f%%', colors = fbs_colors)\n",
    "plt.title(\"Fasting Blood Sugar > 120 mg/dL\")\n",
    "plt.legend(loc = \"lower right\")"
   ]
  },
  {
   "cell_type": "code",
   "execution_count": null,
   "id": "difficult-interval",
   "metadata": {
    "execution": {
     "iopub.execute_input": "2021-07-10T22:33:26.094367Z",
     "iopub.status.busy": "2021-07-10T22:33:26.089602Z",
     "iopub.status.idle": "2021-07-10T22:33:26.406537Z",
     "shell.execute_reply": "2021-07-10T22:33:26.405915Z",
     "shell.execute_reply.started": "2021-07-10T22:30:52.070581Z"
    },
    "papermill": {
     "duration": 0.388061,
     "end_time": "2021-07-10T22:33:26.406716",
     "exception": false,
     "start_time": "2021-07-10T22:33:26.018655",
     "status": "completed"
    },
    "tags": []
   },
   "outputs": [],
   "source": [
    "# Exercise angina and ST Depression distribution\n",
    "plt.figure(figsize=(20,10))\n",
    "plt.subplot(1,2,1)\n",
    "exng_labels = ['No', 'Yes']\n",
    "exng_explode = (0.1, 0.1)\n",
    "exng_colors = ['yellow', 'purple']\n",
    "plt.pie(heart_data['exng'].value_counts(), labels = exng_labels, startangle=90, shadow=True, explode= exng_explode, autopct='%1.1f%%', colors = exng_colors)\n",
    "plt.title(\"Exercise Induced Angina\")\n",
    "plt.legend(loc = \"lower right\")\n",
    "plt.subplot(1,2,2)\n",
    "sns.kdeplot(heart_data['oldpeak'], color = 'cyan', shade = True)\n",
    "plt.xlabel(\"ST Depression Induced by Exercise Relative to Rest\")\n"
   ]
  },
  {
   "cell_type": "code",
   "execution_count": null,
   "id": "hearing-harmony",
   "metadata": {
    "execution": {
     "iopub.execute_input": "2021-07-10T22:33:26.525135Z",
     "iopub.status.busy": "2021-07-10T22:33:26.524475Z",
     "iopub.status.idle": "2021-07-10T22:33:26.527917Z",
     "shell.execute_reply": "2021-07-10T22:33:26.527350Z",
     "shell.execute_reply.started": "2021-07-10T22:30:52.461493Z"
    },
    "papermill": {
     "duration": 0.068657,
     "end_time": "2021-07-10T22:33:26.528051",
     "exception": false,
     "start_time": "2021-07-10T22:33:26.459394",
     "status": "completed"
    },
    "tags": []
   },
   "outputs": [],
   "source": [
    "# Assigning meaning to ECG values\n",
    "ecg_data = heart_data[\"restecg\"].value_counts().reset_index()\n",
    "ecg_data['index'][0] = 'normal'\n",
    "ecg_data['index'][1] = 'hypertrophy'\n",
    "ecg_data['index'][2] = 'ST-T abnormality'\n",
    "ecg_data"
   ]
  },
  {
   "cell_type": "code",
   "execution_count": null,
   "id": "numeric-equivalent",
   "metadata": {
    "execution": {
     "iopub.execute_input": "2021-07-10T22:33:26.645061Z",
     "iopub.status.busy": "2021-07-10T22:33:26.644255Z",
     "iopub.status.idle": "2021-07-10T22:33:26.648408Z",
     "shell.execute_reply": "2021-07-10T22:33:26.647836Z",
     "shell.execute_reply.started": "2021-07-10T22:30:52.478342Z"
    },
    "papermill": {
     "duration": 0.068942,
     "end_time": "2021-07-10T22:33:26.648559",
     "exception": false,
     "start_time": "2021-07-10T22:33:26.579617",
     "status": "completed"
    },
    "tags": []
   },
   "outputs": [],
   "source": [
    "# Assigning meaning to slope of ST-segment values\n",
    "slp_data = heart_data[\"slp\"].value_counts().reset_index()\n",
    "slp_data['index'][0]= 'upsloping'\n",
    "slp_data['index'][1]= 'flat'\n",
    "slp_data['index'][2]= 'downsloping'\n",
    "slp_data"
   ]
  },
  {
   "cell_type": "code",
   "execution_count": null,
   "id": "trying-preliminary",
   "metadata": {
    "execution": {
     "iopub.execute_input": "2021-07-10T22:33:26.794994Z",
     "iopub.status.busy": "2021-07-10T22:33:26.793156Z",
     "iopub.status.idle": "2021-07-10T22:33:27.062565Z",
     "shell.execute_reply": "2021-07-10T22:33:27.061896Z",
     "shell.execute_reply.started": "2021-07-10T22:30:52.504469Z"
    },
    "papermill": {
     "duration": 0.359582,
     "end_time": "2021-07-10T22:33:27.062712",
     "exception": false,
     "start_time": "2021-07-10T22:33:26.703130",
     "status": "completed"
    },
    "tags": []
   },
   "outputs": [],
   "source": [
    "# ECG and ST-segment distribution\n",
    "plt.figure(figsize=(20,10))\n",
    "plt.subplot(1,2,1)\n",
    "sns.barplot(x=ecg_data[\"index\"],y=ecg_data[\"restecg\"], palette = 'bright')\n",
    "plt.xticks(rotation=0)\n",
    "plt.ylabel(\"Count\")\n",
    "plt.xlabel(\"Resting Electrocardiographic Results\")\n",
    "plt.subplot(1,2,2)\n",
    "sns.barplot(x=slp_data[\"index\"],y=slp_data[\"slp\"], palette = 'CMRmap_r')\n",
    "plt.xticks(rotation=0)\n",
    "plt.ylabel(\"Count\")\n",
    "plt.xlabel(\"Slope of the Peak Exercise ST Segment\")"
   ]
  },
  {
   "cell_type": "code",
   "execution_count": null,
   "id": "willing-operator",
   "metadata": {
    "execution": {
     "iopub.execute_input": "2021-07-10T22:33:27.186622Z",
     "iopub.status.busy": "2021-07-10T22:33:27.185671Z",
     "iopub.status.idle": "2021-07-10T22:33:27.189811Z",
     "shell.execute_reply": "2021-07-10T22:33:27.189198Z",
     "shell.execute_reply.started": "2021-07-10T22:30:52.860851Z"
    },
    "papermill": {
     "duration": 0.072048,
     "end_time": "2021-07-10T22:33:27.189948",
     "exception": false,
     "start_time": "2021-07-10T22:33:27.117900",
     "status": "completed"
    },
    "tags": []
   },
   "outputs": [],
   "source": [
    "# Assigning unknown to missing major vessel values \n",
    "caa_data = heart_data[\"caa\"].value_counts().reset_index()\n",
    "caa_data['index'][4] = \"unknown\"\n",
    "caa_data"
   ]
  },
  {
   "cell_type": "code",
   "execution_count": null,
   "id": "operating-latest",
   "metadata": {
    "execution": {
     "iopub.execute_input": "2021-07-10T22:33:27.312235Z",
     "iopub.status.busy": "2021-07-10T22:33:27.311300Z",
     "iopub.status.idle": "2021-07-10T22:33:27.315662Z",
     "shell.execute_reply": "2021-07-10T22:33:27.315035Z",
     "shell.execute_reply.started": "2021-07-10T22:30:52.874785Z"
    },
    "papermill": {
     "duration": 0.070532,
     "end_time": "2021-07-10T22:33:27.315800",
     "exception": false,
     "start_time": "2021-07-10T22:33:27.245268",
     "status": "completed"
    },
    "tags": []
   },
   "outputs": [],
   "source": [
    "# Assigning unknown to missing Thalassemia values \n",
    "thall_data = heart_data[\"thall\"].value_counts().reset_index()\n",
    "thall_data['index'][3] = \"unknown\"\n",
    "thall_data"
   ]
  },
  {
   "cell_type": "code",
   "execution_count": null,
   "id": "dried-episode",
   "metadata": {
    "execution": {
     "iopub.execute_input": "2021-07-10T22:33:27.447066Z",
     "iopub.status.busy": "2021-07-10T22:33:27.446286Z",
     "iopub.status.idle": "2021-07-10T22:33:27.757513Z",
     "shell.execute_reply": "2021-07-10T22:33:27.756867Z",
     "shell.execute_reply.started": "2021-07-10T22:30:52.897349Z"
    },
    "papermill": {
     "duration": 0.38637,
     "end_time": "2021-07-10T22:33:27.757680",
     "exception": false,
     "start_time": "2021-07-10T22:33:27.371310",
     "status": "completed"
    },
    "tags": []
   },
   "outputs": [],
   "source": [
    "# Major vessels and Thalassemia\n",
    "plt.figure(figsize=(20,10))\n",
    "plt.subplot(1,2,1)\n",
    "sns.barplot(x=caa_data[\"index\"],y=caa_data[\"caa\"], palette = 'gist_ncar')\n",
    "plt.xticks(rotation=0)\n",
    "plt.ylabel(\"Count\")\n",
    "plt.xlabel(\"Number of Major Vessels Colored by Flourosopy\")\n",
    "plt.subplot(1,2,2)\n",
    "sns.barplot(x = thall_data['index'], y=thall_data[\"thall\"], palette = 'brg', order = [1,2,3,'unknown'])\n",
    "plt.xticks(rotation=0)\n",
    "plt.ylabel(\"Count\")\n",
    "plt.xlabel(\"Form of Thalassemia\")"
   ]
  },
  {
   "cell_type": "markdown",
   "id": "matched-request",
   "metadata": {
    "papermill": {
     "duration": 0.060484,
     "end_time": "2021-07-10T22:33:27.877208",
     "exception": false,
     "start_time": "2021-07-10T22:33:27.816724",
     "status": "completed"
    },
    "tags": []
   },
   "source": [
    "<div style=\"color:white;\n",
    "           display:fill;\n",
    "           border-radius:10px;\n",
    "           font-size:90%;\n",
    "           font-family:serif;\n",
    "           letter-spacing:0.5px;\n",
    "           background-color:#FF0000;\n",
    "           color:GhostWhite;\n",
    "           font-family:Sans-serif;\n",
    "            padding:5px 5px 5px 5px;\n",
    "           \">\n",
    "<h1 style=\"text-align:center;font-weight: bold;\">Bivariate Analysis</h1>\n",
    "\n",
    "\n",
    "</div>"
   ]
  },
  {
   "cell_type": "markdown",
   "id": "physical-stockholm",
   "metadata": {
    "papermill": {
     "duration": 0.055333,
     "end_time": "2021-07-10T22:33:27.989317",
     "exception": false,
     "start_time": "2021-07-10T22:33:27.933984",
     "status": "completed"
    },
    "tags": []
   },
   "source": [
    "***"
   ]
  },
  {
   "cell_type": "code",
   "execution_count": null,
   "id": "nominated-young",
   "metadata": {
    "execution": {
     "iopub.execute_input": "2021-07-10T22:33:28.111449Z",
     "iopub.status.busy": "2021-07-10T22:33:28.110296Z",
     "iopub.status.idle": "2021-07-10T22:33:29.234595Z",
     "shell.execute_reply": "2021-07-10T22:33:29.235079Z",
     "shell.execute_reply.started": "2021-07-10T22:30:53.286823Z"
    },
    "papermill": {
     "duration": 1.188734,
     "end_time": "2021-07-10T22:33:29.235254",
     "exception": false,
     "start_time": "2021-07-10T22:33:28.046520",
     "status": "completed"
    },
    "tags": []
   },
   "outputs": [],
   "source": [
    "# Heatmap\n",
    "plt.figure(figsize=(20,10))\n",
    "sns.heatmap(heart_data.corr(),annot=True,cmap=\"jet\")"
   ]
  },
  {
   "cell_type": "code",
   "execution_count": null,
   "id": "assigned-technology",
   "metadata": {
    "execution": {
     "iopub.execute_input": "2021-07-10T22:33:29.363164Z",
     "iopub.status.busy": "2021-07-10T22:33:29.362469Z",
     "iopub.status.idle": "2021-07-10T22:34:11.394091Z",
     "shell.execute_reply": "2021-07-10T22:34:11.394647Z",
     "shell.execute_reply.started": "2021-07-10T22:30:54.525558Z"
    },
    "papermill": {
     "duration": 42.0979,
     "end_time": "2021-07-10T22:34:11.394838",
     "exception": false,
     "start_time": "2021-07-10T22:33:29.296938",
     "status": "completed"
    },
    "tags": []
   },
   "outputs": [],
   "source": [
    "# Pairplot\n",
    "plt.figure(figsize=(20,10))\n",
    "sns.pairplot(heart_data, hue= 'output')"
   ]
  },
  {
   "cell_type": "code",
   "execution_count": null,
   "id": "searching-direction",
   "metadata": {
    "execution": {
     "iopub.execute_input": "2021-07-10T22:34:11.608184Z",
     "iopub.status.busy": "2021-07-10T22:34:11.607526Z",
     "iopub.status.idle": "2021-07-10T22:34:11.932778Z",
     "shell.execute_reply": "2021-07-10T22:34:11.932138Z",
     "shell.execute_reply.started": "2021-07-10T22:31:57.657565Z"
    },
    "papermill": {
     "duration": 0.432675,
     "end_time": "2021-07-10T22:34:11.932917",
     "exception": false,
     "start_time": "2021-07-10T22:34:11.500242",
     "status": "completed"
    },
    "tags": []
   },
   "outputs": [],
   "source": [
    "# Analysis of continuous features with respect to output\n",
    "ff_age = ff.create_distplot([heart_data[heart_data.output==1].age,heart_data[heart_data.output==0].age],[\"Heart Disease\",\"No Heart Disease\"], colors = ['red', 'blue'])\n",
    "ff_age.update_layout(title=\"Distribution of Heart Disease with Respect to Age\", xaxis_title=\"Age\")\n",
    "ff_age.show()\n",
    "ff_bp = ff.create_distplot([heart_data[heart_data.output==1].trtbps,heart_data[heart_data.output==0].trtbps],[\"Heart Disease\",\"No Heart Disease\"], colors = ['red', 'blue'])\n",
    "ff_bp.update_layout(title=\"Distribution of Heart Disease with Respect to Blood Pressure (mmHg)\", xaxis_title=\"Blood Pressure (mmHg)\")\n",
    "ff_bp.show()\n",
    "ff_hr = ff.create_distplot([heart_data[heart_data.output==1].thalachh,heart_data[heart_data.output==0].thalachh],[\"Heart Disease\",\"No Heart Disease\"], colors = ['red', 'blue'])\n",
    "ff_hr.update_layout(title=\"Distribution of Heart Disease with Respect to Maxiumum Heart Rate Achieved (bpm)\", xaxis_title=\"Maxiumum Heart Rate Achieved (bpm)\")\n",
    "ff_hr.show()\n",
    "ff_chol = ff.create_distplot([heart_data[heart_data.output==1].chol,heart_data[heart_data.output==0].chol],[\"Heart Disease\",\"No Heart Disease\"], colors = ['red', 'blue'])\n",
    "ff_chol.update_layout(title=\"Distribution of Heart Disease with Respect to Cholesterol (mg/dL)\", xaxis_title=\"Cholesterol\")\n",
    "ff_chol.show()\n",
    "ff_op = ff.create_distplot([heart_data[heart_data.output==1].oldpeak,heart_data[heart_data.output==0].oldpeak],[\"Heart Disease\",\"No Heart Disease\"], colors = ['red', 'blue'])\n",
    "ff_op.update_layout(title=\"Distribution of Heart Disease with Respect to Exercise induced ST segment depression\", xaxis_title=\"ST segment depression\")\n",
    "ff_op.show()"
   ]
  },
  {
   "cell_type": "code",
   "execution_count": null,
   "id": "decreased-elder",
   "metadata": {
    "execution": {
     "iopub.execute_input": "2021-07-10T22:34:12.300367Z",
     "iopub.status.busy": "2021-07-10T22:34:12.293226Z",
     "iopub.status.idle": "2021-07-10T22:34:14.490482Z",
     "shell.execute_reply": "2021-07-10T22:34:14.489866Z",
     "shell.execute_reply.started": "2021-07-10T22:31:57.924885Z"
    },
    "papermill": {
     "duration": 2.387403,
     "end_time": "2021-07-10T22:34:14.490639",
     "exception": false,
     "start_time": "2021-07-10T22:34:12.103236",
     "status": "completed"
    },
    "tags": []
   },
   "outputs": [],
   "source": [
    "# Analysis of categorical features with respect to output\n",
    "sex_data = heart_data[['sex','output']]\n",
    "sex_data['sex'] = sex_data['sex'].replace([1],'male')\n",
    "sex_data['sex'] = sex_data['sex'].replace([0],'female')\n",
    "sex_data['output'] = sex_data['output'].replace([0],'no heart disease')\n",
    "sex_data['output'] = sex_data['output'].replace([1],'heart disease')\n",
    "cp_data = heart_data[['cp','output']]\n",
    "cp_data['cp'] = cp_data['cp'].replace([0],'asymptomatic')\n",
    "cp_data['cp'] = cp_data['cp'].replace([1],'atypical')\n",
    "cp_data['cp'] = cp_data['cp'].replace([2],'non-anginal')\n",
    "cp_data['cp'] = cp_data['cp'].replace([3],'typical')\n",
    "cp_data['output'] = cp_data['output'].replace([0],'no heart disease')\n",
    "cp_data['output'] = cp_data['output'].replace([1],'heart disease')\n",
    "fbs_data = heart_data[['fbs','output']]\n",
    "fbs_data['fbs'] = fbs_data['fbs'].replace([0],'<= 120 mg/dl')\n",
    "fbs_data['fbs'] = fbs_data['fbs'].replace([1],'> 120 mg/dl')\n",
    "fbs_data['output'] = fbs_data['output'].replace([0],'no heart disease')\n",
    "fbs_data['output'] = fbs_data['output'].replace([1],'heart disease')                   \n",
    "ecg_data = heart_data[['restecg','output']]           \n",
    "ecg_data['restecg'] = ecg_data['restecg'].replace([0],'normal')\n",
    "ecg_data['restecg'] = ecg_data['restecg'].replace([1],'hypertrophy')\n",
    "ecg_data['restecg'] = ecg_data['restecg'].replace([2],'ST-T abnormality')\n",
    "ecg_data['output'] = ecg_data['output'].replace([0],'no heart disease')\n",
    "ecg_data['output'] = ecg_data['output'].replace([1],'heart disease')\n",
    "exng_data = heart_data[['exng','output']]                 \n",
    "exng_data['exng'] = exng_data['exng'].replace([0],'No')\n",
    "exng_data['exng'] = exng_data['exng'].replace([1],'Yes')\n",
    "slp_data = heart_data[['slp','output']]  \n",
    "slp_data['slp'] = slp_data['slp'].replace([0],'normal')\n",
    "slp_data['slp'] = slp_data['slp'].replace([1],'upsloping')\n",
    "slp_data['slp'] = slp_data['slp'].replace([2],'downsloping')\n",
    "slp_data['output'] = slp_data['output'].replace([0],'no heart disease')\n",
    "slp_data['output'] = slp_data['output'].replace([1],'heart disease')\n",
    "sns.catplot(x=\"sex\", data=sex_data, kind=\"count\", hue=\"output\")\n",
    "sns.catplot(x=\"cp\", data=cp_data, kind=\"count\", hue=\"output\")\n",
    "sns.catplot(x=\"fbs\", data=fbs_data, kind=\"count\", hue=\"output\")\n",
    "sns.catplot(x=\"restecg\", data=ecg_data, kind=\"count\", hue=\"output\")\n",
    "sns.catplot(x=\"exng\", data=exng_data, kind=\"count\", hue=\"output\")\n",
    "sns.catplot(x=\"slp\", data=slp_data, kind=\"count\", hue=\"output\")\n",
    "sns.catplot(x=\"caa\", data=heart_data, kind=\"count\", hue=\"output\")\n",
    "sns.catplot(x=\"thall\", data=heart_data, kind=\"count\", hue=\"output\")"
   ]
  },
  {
   "cell_type": "markdown",
   "id": "african-relief",
   "metadata": {
    "papermill": {
     "duration": 0.181408,
     "end_time": "2021-07-10T22:34:14.849052",
     "exception": false,
     "start_time": "2021-07-10T22:34:14.667644",
     "status": "completed"
    },
    "tags": []
   },
   "source": [
    "<div style=\"color:white;\n",
    "           display:fill;\n",
    "           border-radius:10px;\n",
    "           font-size:90%;\n",
    "           font-family:serif;\n",
    "           letter-spacing:0.5px;\n",
    "           background-color:#FF0000;\n",
    "           color:GhostWhite;\n",
    "           font-family:Sans-serif;\n",
    "            padding:5px 5px 5px 5px;\n",
    "           \">\n",
    "<h1 style=\"text-align:center;font-weight: bold;\">Model Preparation</h1>\n",
    "\n",
    "\n",
    "</div>"
   ]
  },
  {
   "cell_type": "markdown",
   "id": "paperback-puppy",
   "metadata": {
    "papermill": {
     "duration": 0.176463,
     "end_time": "2021-07-10T22:34:15.202971",
     "exception": false,
     "start_time": "2021-07-10T22:34:15.026508",
     "status": "completed"
    },
    "tags": []
   },
   "source": [
    "***"
   ]
  },
  {
   "cell_type": "code",
   "execution_count": null,
   "id": "traditional-calcium",
   "metadata": {
    "execution": {
     "iopub.execute_input": "2021-07-10T22:34:15.596994Z",
     "iopub.status.busy": "2021-07-10T22:34:15.596363Z",
     "iopub.status.idle": "2021-07-10T22:34:15.599095Z",
     "shell.execute_reply": "2021-07-10T22:34:15.598618Z",
     "shell.execute_reply.started": "2021-07-10T22:32:01.129861Z"
    },
    "papermill": {
     "duration": 0.220723,
     "end_time": "2021-07-10T22:34:15.599233",
     "exception": false,
     "start_time": "2021-07-10T22:34:15.378510",
     "status": "completed"
    },
    "tags": []
   },
   "outputs": [],
   "source": [
    "# Assigning variables\n",
    "y = heart_data['output']\n",
    "X = heart_data.drop('output', axis=1)"
   ]
  },
  {
   "cell_type": "code",
   "execution_count": null,
   "id": "metropolitan-schedule",
   "metadata": {
    "execution": {
     "iopub.execute_input": "2021-07-10T22:34:15.962661Z",
     "iopub.status.busy": "2021-07-10T22:34:15.961995Z",
     "iopub.status.idle": "2021-07-10T22:34:15.963766Z",
     "shell.execute_reply": "2021-07-10T22:34:15.964227Z",
     "shell.execute_reply.started": "2021-07-10T22:32:01.140633Z"
    },
    "papermill": {
     "duration": 0.185905,
     "end_time": "2021-07-10T22:34:15.964391",
     "exception": false,
     "start_time": "2021-07-10T22:34:15.778486",
     "status": "completed"
    },
    "tags": []
   },
   "outputs": [],
   "source": [
    "# train-test-split\n",
    "X_train, X_test, y_train, y_test = train_test_split(X, y, test_size=0.20, random_state = 0)"
   ]
  },
  {
   "cell_type": "code",
   "execution_count": null,
   "id": "transparent-booth",
   "metadata": {
    "execution": {
     "iopub.execute_input": "2021-07-10T22:34:16.377158Z",
     "iopub.status.busy": "2021-07-10T22:34:16.376346Z",
     "iopub.status.idle": "2021-07-10T22:34:16.386296Z",
     "shell.execute_reply": "2021-07-10T22:34:16.386800Z",
     "shell.execute_reply.started": "2021-07-10T22:32:01.156278Z"
    },
    "papermill": {
     "duration": 0.193844,
     "end_time": "2021-07-10T22:34:16.386982",
     "exception": false,
     "start_time": "2021-07-10T22:34:16.193138",
     "status": "completed"
    },
    "tags": []
   },
   "outputs": [],
   "source": [
    "# Scaling data\n",
    "scaler = StandardScaler()\n",
    "X_train = scaler.fit_transform(X_train)\n",
    "X_test = scaler.transform(X_test)"
   ]
  },
  {
   "cell_type": "code",
   "execution_count": null,
   "id": "sixth-minnesota",
   "metadata": {
    "execution": {
     "iopub.execute_input": "2021-07-10T22:34:16.747135Z",
     "iopub.status.busy": "2021-07-10T22:34:16.746503Z",
     "iopub.status.idle": "2021-07-10T22:34:16.753619Z",
     "shell.execute_reply": "2021-07-10T22:34:16.754398Z",
     "shell.execute_reply.started": "2021-07-10T22:32:01.177070Z"
    },
    "papermill": {
     "duration": 0.187313,
     "end_time": "2021-07-10T22:34:16.754658",
     "exception": false,
     "start_time": "2021-07-10T22:34:16.567345",
     "status": "completed"
    },
    "tags": []
   },
   "outputs": [],
   "source": [
    "# Dummy classifier (expected baseline accuracy)\n",
    "dummy_clf = DummyClassifier(strategy=\"stratified\")\n",
    "dummy_clf.fit(X_train, y_train)\n",
    "DummyClassifier(strategy='stratified')\n",
    "dummy_clf.predict(X_test)\n",
    "dummy_score = dummy_clf.score(X_test, y_test)\n",
    "print(\"The expected success rate from guessing is\", dummy_score)"
   ]
  },
  {
   "cell_type": "markdown",
   "id": "paperback-moderator",
   "metadata": {
    "papermill": {
     "duration": 0.175,
     "end_time": "2021-07-10T22:34:17.104910",
     "exception": false,
     "start_time": "2021-07-10T22:34:16.929910",
     "status": "completed"
    },
    "tags": []
   },
   "source": [
    "<div style=\"color:white;\n",
    "           display:fill;\n",
    "           border-radius:10px;\n",
    "           font-size:90%;\n",
    "           font-family:serif;\n",
    "           letter-spacing:0.5px;\n",
    "           background-color:#FF0000;\n",
    "           color:GhostWhite;\n",
    "           font-family:Sans-serif;\n",
    "            padding:5px 5px 5px 5px;\n",
    "           \">\n",
    "<h1 style=\"text-align:center;font-weight: bold;\">Classification Models</h1>\n",
    "\n",
    "\n",
    "</div>"
   ]
  },
  {
   "cell_type": "markdown",
   "id": "stretch-province",
   "metadata": {
    "papermill": {
     "duration": 0.179271,
     "end_time": "2021-07-10T22:34:17.463478",
     "exception": false,
     "start_time": "2021-07-10T22:34:17.284207",
     "status": "completed"
    },
    "tags": []
   },
   "source": [
    "***"
   ]
  },
  {
   "cell_type": "code",
   "execution_count": null,
   "id": "electronic-ocean",
   "metadata": {
    "execution": {
     "iopub.execute_input": "2021-07-10T22:34:17.836107Z",
     "iopub.status.busy": "2021-07-10T22:34:17.835098Z",
     "iopub.status.idle": "2021-07-10T22:34:17.840841Z",
     "shell.execute_reply": "2021-07-10T22:34:17.841958Z",
     "shell.execute_reply.started": "2021-07-10T22:32:01.194365Z"
    },
    "papermill": {
     "duration": 0.201074,
     "end_time": "2021-07-10T22:34:17.842237",
     "exception": false,
     "start_time": "2021-07-10T22:34:17.641163",
     "status": "completed"
    },
    "tags": []
   },
   "outputs": [],
   "source": [
    "# Logistic Regression Model\n",
    "lr = LogisticRegression()\n",
    "lr.fit(X_train, y_train)\n",
    "lr_predict = lr.predict(X_test)\n",
    "lr_conf_matrix = confusion_matrix(y_test, lr_predict)\n",
    "lr_acc_score = accuracy_score(y_test, lr_predict)\n",
    "print(\"Logistic Regression Confussion Matrix:\")\n",
    "print(lr_conf_matrix)\n",
    "print('\\n')\n",
    "print(\"Accuracy of Logistic Regression:\")\n",
    "print(lr_acc_score*100, '%')"
   ]
  },
  {
   "cell_type": "code",
   "execution_count": null,
   "id": "superior-mobility",
   "metadata": {
    "execution": {
     "iopub.execute_input": "2021-07-10T22:34:18.204099Z",
     "iopub.status.busy": "2021-07-10T22:34:18.203201Z",
     "iopub.status.idle": "2021-07-10T22:34:18.214770Z",
     "shell.execute_reply": "2021-07-10T22:34:18.215275Z",
     "shell.execute_reply.started": "2021-07-10T22:32:01.216384Z"
    },
    "papermill": {
     "duration": 0.194757,
     "end_time": "2021-07-10T22:34:18.215443",
     "exception": false,
     "start_time": "2021-07-10T22:34:18.020686",
     "status": "completed"
    },
    "tags": []
   },
   "outputs": [],
   "source": [
    "# Support Vector Classifier Model \n",
    "svc =  SVC(kernel='rbf', C=2)\n",
    "svc.fit(X_train, y_train)\n",
    "svc_predict = svc.predict(X_test)\n",
    "svc_conf_matrix = confusion_matrix(y_test, svc_predict)\n",
    "svc_acc_score = accuracy_score(y_test, svc_predict)\n",
    "print(\"Support Vector Classifier Confussion Matrix:\")\n",
    "print(svc_conf_matrix)\n",
    "print('\\n')\n",
    "print(\"Accuracy of Support Vector Classifier:\")\n",
    "print(svc_acc_score*100, '%')"
   ]
  },
  {
   "cell_type": "code",
   "execution_count": null,
   "id": "permanent-georgia",
   "metadata": {
    "execution": {
     "iopub.execute_input": "2021-07-10T22:34:18.579041Z",
     "iopub.status.busy": "2021-07-10T22:34:18.578057Z",
     "iopub.status.idle": "2021-07-10T22:34:18.592033Z",
     "shell.execute_reply": "2021-07-10T22:34:18.590946Z",
     "shell.execute_reply.started": "2021-07-10T22:32:01.232627Z"
    },
    "papermill": {
     "duration": 0.19964,
     "end_time": "2021-07-10T22:34:18.592389",
     "exception": false,
     "start_time": "2021-07-10T22:34:18.392749",
     "status": "completed"
    },
    "tags": []
   },
   "outputs": [],
   "source": [
    "# K-Nearest Neighbor Model\n",
    "knn = KNeighborsClassifier(n_neighbors=10)\n",
    "knn.fit(X_train, y_train)\n",
    "knn_predict = knn.predict(X_test)\n",
    "knn_conf_matrix = confusion_matrix(y_test, knn_predict)\n",
    "knn_acc_score = accuracy_score(y_test, knn_predict)\n",
    "print(\"K-Nearest Neighbors Confussion Matrix\")\n",
    "print(knn_conf_matrix)\n",
    "print('\\n')\n",
    "print(\"Accuracy of K-Nearest Neighbors Model:\")\n",
    "print(knn_acc_score*100, '%')"
   ]
  },
  {
   "cell_type": "code",
   "execution_count": null,
   "id": "different-bonus",
   "metadata": {
    "execution": {
     "iopub.execute_input": "2021-07-10T22:34:18.958502Z",
     "iopub.status.busy": "2021-07-10T22:34:18.957511Z",
     "iopub.status.idle": "2021-07-10T22:34:18.964150Z",
     "shell.execute_reply": "2021-07-10T22:34:18.964601Z",
     "shell.execute_reply.started": "2021-07-10T22:32:01.249137Z"
    },
    "papermill": {
     "duration": 0.19174,
     "end_time": "2021-07-10T22:34:18.964786",
     "exception": false,
     "start_time": "2021-07-10T22:34:18.773046",
     "status": "completed"
    },
    "tags": []
   },
   "outputs": [],
   "source": [
    "# Naive Bayes Model\n",
    "nb = GaussianNB()\n",
    "nb.fit(X_train,y_train)\n",
    "nb_predict = nb.predict(X_test)\n",
    "nb_conf_matrix = confusion_matrix(y_test,nb_predict)\n",
    "nb_acc_score = accuracy_score(y_test, nb_predict)\n",
    "print(\"Naive Bayes Confussion Matrix\")\n",
    "print(nb_conf_matrix)\n",
    "print('\\n')\n",
    "print(\"Accuracy of Naive Bayes Model:\")\n",
    "print(nb_acc_score*100, '%')"
   ]
  },
  {
   "cell_type": "code",
   "execution_count": null,
   "id": "governmental-joshua",
   "metadata": {
    "execution": {
     "iopub.execute_input": "2021-07-10T22:34:19.326307Z",
     "iopub.status.busy": "2021-07-10T22:34:19.325704Z",
     "iopub.status.idle": "2021-07-10T22:34:19.332727Z",
     "shell.execute_reply": "2021-07-10T22:34:19.333176Z",
     "shell.execute_reply.started": "2021-07-10T22:32:01.267076Z"
    },
    "papermill": {
     "duration": 0.189766,
     "end_time": "2021-07-10T22:34:19.333341",
     "exception": false,
     "start_time": "2021-07-10T22:34:19.143575",
     "status": "completed"
    },
    "tags": []
   },
   "outputs": [],
   "source": [
    "# Decision Tree Model\n",
    "dtc = DecisionTreeClassifier()\n",
    "dtc.fit(X_train, y_train)\n",
    "dtc_predict = dtc.predict(X_test)\n",
    "dtc_conf_matrix = confusion_matrix(y_test, dtc_predict)\n",
    "dtc_acc_score = accuracy_score(y_test, dtc_predict)\n",
    "print(\"Decision Tree Classifier Confussion Matrix\")\n",
    "print(dtc_conf_matrix)\n",
    "print('\\n')\n",
    "print(\"Accuracy of Decision Tree Classifier Model:\")\n",
    "print(dtc_acc_score*100, '%')"
   ]
  },
  {
   "cell_type": "code",
   "execution_count": null,
   "id": "vital-spelling",
   "metadata": {
    "execution": {
     "iopub.execute_input": "2021-07-10T22:34:19.707164Z",
     "iopub.status.busy": "2021-07-10T22:34:19.706484Z",
     "iopub.status.idle": "2021-07-10T22:34:19.869468Z",
     "shell.execute_reply": "2021-07-10T22:34:19.869927Z",
     "shell.execute_reply.started": "2021-07-10T22:32:01.283484Z"
    },
    "papermill": {
     "duration": 0.355541,
     "end_time": "2021-07-10T22:34:19.870114",
     "exception": false,
     "start_time": "2021-07-10T22:34:19.514573",
     "status": "completed"
    },
    "tags": []
   },
   "outputs": [],
   "source": [
    "# Random Forest Model\n",
    "rfc = RandomForestClassifier()\n",
    "rfc.fit(X_train, y_train)\n",
    "rfc_predict = rfc.predict(X_test)\n",
    "rfc_conf_matrix = confusion_matrix(y_test, rfc_predict)\n",
    "rfc_acc_score = accuracy_score(y_test, rfc_predict)\n",
    "print(\"Random Forest Classifier Confussion Matrix\")\n",
    "print(rfc_conf_matrix)\n",
    "print('\\n')\n",
    "print(\"Accuracy of Random Forest Classifier Model:\")\n",
    "print(rfc_acc_score*100, '%')"
   ]
  },
  {
   "cell_type": "code",
   "execution_count": null,
   "id": "beginning-involvement",
   "metadata": {
    "execution": {
     "iopub.execute_input": "2021-07-10T22:34:20.235444Z",
     "iopub.status.busy": "2021-07-10T22:34:20.234790Z",
     "iopub.status.idle": "2021-07-10T22:34:20.485243Z",
     "shell.execute_reply": "2021-07-10T22:34:20.484356Z",
     "shell.execute_reply.started": "2021-07-10T22:32:01.505650Z"
    },
    "papermill": {
     "duration": 0.436038,
     "end_time": "2021-07-10T22:34:20.485475",
     "exception": false,
     "start_time": "2021-07-10T22:34:20.049437",
     "status": "completed"
    },
    "tags": []
   },
   "outputs": [],
   "source": [
    "# Extreme Gradient Boost Model\n",
    "xgb = XGBClassifier(learning_rate=0.01, n_estimators= 100, max_depth=10, booster='dart',use_label_encoder= False)\n",
    "xgb.fit(X_train, y_train)\n",
    "xgb_predict = xgb.predict(X_test)\n",
    "xgb_conf_matrix = confusion_matrix(y_test, xgb_predict)\n",
    "xgb_acc_score = accuracy_score(y_test, xgb_predict)\n",
    "print(\"Extreme Gradient Boosting Confussion Matrix\")\n",
    "print(xgb_conf_matrix)\n",
    "print('\\n')\n",
    "print(\"Accuracy of Extreme Gradient Boosting Model:\")\n",
    "print(xgb_acc_score*100, '%')"
   ]
  },
  {
   "cell_type": "code",
   "execution_count": null,
   "id": "vulnerable-framing",
   "metadata": {
    "execution": {
     "iopub.execute_input": "2021-07-10T22:34:20.851118Z",
     "iopub.status.busy": "2021-07-10T22:34:20.849753Z",
     "iopub.status.idle": "2021-07-10T22:34:20.863039Z",
     "shell.execute_reply": "2021-07-10T22:34:20.863473Z",
     "shell.execute_reply.started": "2021-07-10T22:32:01.738413Z"
    },
    "papermill": {
     "duration": 0.196646,
     "end_time": "2021-07-10T22:34:20.863661",
     "exception": false,
     "start_time": "2021-07-10T22:34:20.667015",
     "status": "completed"
    },
    "tags": []
   },
   "outputs": [],
   "source": [
    "# Creating Dataframe of Model Accuracies\n",
    "model_ev = pd.DataFrame({'Model': ['Logistic Regression', 'Support Vector Classifier','K-Nearest Neighbour','Naive Bayes','Decision Tree','Random Forest','Extreme Gradient Boost'],\n",
    "                         'Accuracy': [lr_acc_score*100, svc_acc_score*100, knn_acc_score*100,nb_acc_score*100, dtc_acc_score*100, rfc_acc_score*100, xgb_acc_score*100]})\n",
    "model_ev"
   ]
  },
  {
   "cell_type": "code",
   "execution_count": null,
   "id": "mysterious-dodge",
   "metadata": {
    "execution": {
     "iopub.execute_input": "2021-07-10T22:34:21.226448Z",
     "iopub.status.busy": "2021-07-10T22:34:21.225584Z",
     "iopub.status.idle": "2021-07-10T22:34:21.266165Z",
     "shell.execute_reply": "2021-07-10T22:34:21.266703Z",
     "shell.execute_reply.started": "2021-07-10T22:32:01.753666Z"
    },
    "papermill": {
     "duration": 0.225446,
     "end_time": "2021-07-10T22:34:21.266871",
     "exception": false,
     "start_time": "2021-07-10T22:34:21.041425",
     "status": "completed"
    },
    "tags": []
   },
   "outputs": [],
   "source": [
    "#Stacking CV Classifier (Ensemble) Model of two best models\n",
    "scv=StackingCVClassifier(classifiers=[svc,knn],meta_classifier= svc, random_state= 25)\n",
    "scv.fit(X_train,y_train)\n",
    "scv_predict = scv.predict(X_test)\n",
    "scv_conf_matrix = confusion_matrix(y_test, scv_predict)\n",
    "scv_acc_score = accuracy_score(y_test, scv_predict)\n",
    "print(\"Stacking CV Classifier Confusion Matrix\")\n",
    "print(scv_conf_matrix)\n",
    "print(\"\\n\")\n",
    "print(\"Accuracy of Stacking CV Classifier Model:\",scv_acc_score*100,'\\n')"
   ]
  },
  {
   "cell_type": "markdown",
   "id": "seasonal-reconstruction",
   "metadata": {
    "papermill": {
     "duration": 0.179977,
     "end_time": "2021-07-10T22:34:21.628472",
     "exception": false,
     "start_time": "2021-07-10T22:34:21.448495",
     "status": "completed"
    },
    "tags": []
   },
   "source": [
    "<div style=\"color:white;\n",
    "           display:fill;\n",
    "           border-radius:10px;\n",
    "           font-size:90%;\n",
    "           font-family:serif;\n",
    "           letter-spacing:0.5px;\n",
    "           background-color:#FF0000;\n",
    "           color:GhostWhite;\n",
    "           font-family:Sans-serif;\n",
    "            padding:5px 5px 5px 5px;\n",
    "           \">\n",
    "<h1 style=\"text-align:center;font-weight: bold;\">Model Analysis</h1>\n",
    "\n",
    "\n",
    "</div>"
   ]
  },
  {
   "cell_type": "markdown",
   "id": "lonely-table",
   "metadata": {
    "papermill": {
     "duration": 0.180789,
     "end_time": "2021-07-10T22:34:22.084064",
     "exception": false,
     "start_time": "2021-07-10T22:34:21.903275",
     "status": "completed"
    },
    "tags": []
   },
   "source": [
    "***"
   ]
  },
  {
   "cell_type": "code",
   "execution_count": null,
   "id": "experienced-polish",
   "metadata": {
    "execution": {
     "iopub.execute_input": "2021-07-10T22:34:22.449212Z",
     "iopub.status.busy": "2021-07-10T22:34:22.448283Z",
     "iopub.status.idle": "2021-07-10T22:34:22.719687Z",
     "shell.execute_reply": "2021-07-10T22:34:22.720141Z",
     "shell.execute_reply.started": "2021-07-10T22:32:01.809812Z"
    },
    "papermill": {
     "duration": 0.457531,
     "end_time": "2021-07-10T22:34:22.720308",
     "exception": false,
     "start_time": "2021-07-10T22:34:22.262777",
     "status": "completed"
    },
    "tags": []
   },
   "outputs": [],
   "source": [
    "# Feature importance of Extreme Gradient Boost Model\n",
    "xgb_imp_feature = pd.DataFrame({'Feature': ['age', 'sex', 'cp', 'trestbps', 'chol', 'fbs', 'restecg', 'thalach',\n",
    "       'exang', 'oldpeak', 'slope', 'ca', 'thal'], 'Importance': (((xgb.feature_importances_ * 100) / (xgb.feature_importances_.max() * 100) *100))})\n",
    "xgb_imp_feature.sort_values(by = 'Importance', inplace=True)\n",
    "plt.figure(figsize=(10,4))\n",
    "plt.title(\"Gradient Boost Feature Importance\")\n",
    "plt.xlabel(\"importance \")\n",
    "plt.ylabel(\"features\")\n",
    "plt.barh(xgb_imp_feature['Feature'],xgb_imp_feature['Importance'])\n",
    "plt.show()"
   ]
  },
  {
   "cell_type": "code",
   "execution_count": 12,
   "id": "numerous-panama",
   "metadata": {
    "execution": {
     "iopub.execute_input": "2021-07-10T22:34:23.108331Z",
     "iopub.status.busy": "2021-07-10T22:34:23.107356Z",
     "iopub.status.idle": "2021-07-10T22:34:23.278243Z",
     "shell.execute_reply": "2021-07-10T22:34:23.278777Z",
     "shell.execute_reply.started": "2021-07-10T22:32:02.117988Z"
    },
    "papermill": {
     "duration": 0.375013,
     "end_time": "2021-07-10T22:34:23.278948",
     "exception": false,
     "start_time": "2021-07-10T22:34:22.903935",
     "status": "completed"
    },
    "tags": []
   },
   "outputs": [
    {
     "ename": "NameError",
     "evalue": "name 'lr' is not defined",
     "output_type": "error",
     "traceback": [
      "\u001b[1;31m---------------------------------------------------------------------------\u001b[0m",
      "\u001b[1;31mNameError\u001b[0m                                 Traceback (most recent call last)",
      "\u001b[1;32m<ipython-input-12-ae59dcf7549d>\u001b[0m in \u001b[0;36m<module>\u001b[1;34m\u001b[0m\n\u001b[0;32m      1\u001b[0m \u001b[1;31m# Feature importance of Logistic Regression Model\u001b[0m\u001b[1;33m\u001b[0m\u001b[1;33m\u001b[0m\u001b[1;33m\u001b[0m\u001b[0m\n\u001b[0;32m      2\u001b[0m log_imp_feature = pd.DataFrame({'Feature': ['age', 'sex', 'cp', 'trestbps', 'chol', 'fbs', 'restecg', 'thalach',\n\u001b[1;32m----> 3\u001b[1;33m        'exang', 'oldpeak', 'slope', 'ca', 'thal'], 'Importance': (abs(lr.coef_[0] * 100))/(abs(lr.coef_[0] * 100)).max()*100})\n\u001b[0m\u001b[0;32m      4\u001b[0m \u001b[0mlog_imp_feature\u001b[0m\u001b[1;33m.\u001b[0m\u001b[0msort_values\u001b[0m\u001b[1;33m(\u001b[0m\u001b[1;34m'Importance'\u001b[0m\u001b[1;33m,\u001b[0m \u001b[0minplace\u001b[0m \u001b[1;33m=\u001b[0m \u001b[1;32mTrue\u001b[0m\u001b[1;33m)\u001b[0m\u001b[1;33m\u001b[0m\u001b[1;33m\u001b[0m\u001b[0m\n\u001b[0;32m      5\u001b[0m \u001b[0mplt\u001b[0m\u001b[1;33m.\u001b[0m\u001b[0mfigure\u001b[0m\u001b[1;33m(\u001b[0m\u001b[0mfigsize\u001b[0m\u001b[1;33m=\u001b[0m\u001b[1;33m(\u001b[0m\u001b[1;36m10\u001b[0m\u001b[1;33m,\u001b[0m\u001b[1;36m4\u001b[0m\u001b[1;33m)\u001b[0m\u001b[1;33m)\u001b[0m\u001b[1;33m\u001b[0m\u001b[1;33m\u001b[0m\u001b[0m\n",
      "\u001b[1;31mNameError\u001b[0m: name 'lr' is not defined"
     ]
    }
   ],
   "source": [
    "# Feature importance of Logistic Regression Model\n",
    "log_imp_feature = pd.DataFrame({'Feature': ['age', 'sex', 'cp', 'trestbps', 'chol', 'fbs', 'restecg', 'thalach',\n",
    "       'exang', 'oldpeak', 'slope', 'ca', 'thal'], 'Importance': (abs(lr.coef_[0] * 100))/(abs(lr.coef_[0] * 100)).max()*100})\n",
    "log_imp_feature.sort_values('Importance', inplace = True)\n",
    "plt.figure(figsize=(10,4))\n",
    "plt.title(\"Logistic Regression Feature Importance\")\n",
    "plt.xlabel(\"importance \")\n",
    "plt.ylabel(\"features\")\n",
    "plt.barh(log_imp_feature['Feature'],log_imp_feature['Importance'])\n",
    "plt.show()"
   ]
  },
  {
   "cell_type": "code",
   "execution_count": null,
   "id": "expensive-creek",
   "metadata": {
    "execution": {
     "iopub.execute_input": "2021-07-10T22:34:23.643527Z",
     "iopub.status.busy": "2021-07-10T22:34:23.642660Z",
     "iopub.status.idle": "2021-07-10T22:34:23.847851Z",
     "shell.execute_reply": "2021-07-10T22:34:23.848341Z",
     "shell.execute_reply.started": "2021-07-10T22:32:02.362693Z"
    },
    "papermill": {
     "duration": 0.388939,
     "end_time": "2021-07-10T22:34:23.848508",
     "exception": false,
     "start_time": "2021-07-10T22:34:23.459569",
     "status": "completed"
    },
    "tags": []
   },
   "outputs": [],
   "source": [
    "# Plotting accuracy of various classification models\n",
    "colors = ['red','yellow','blue','orange','green','purple','grey',]\n",
    "plt.figure(figsize=(20,8))\n",
    "plt.title(\"Accuracy of Various Classification Models\")\n",
    "plt.xlabel(\"Model\")\n",
    "plt.ylabel(\"Accuracy (%)\")\n",
    "plt.bar(model_ev['Model'],model_ev['Accuracy'],color = colors)\n",
    "plt.show()"
   ]
  },
  {
   "cell_type": "code",
   "execution_count": null,
   "id": "second-petite",
   "metadata": {
    "execution": {
     "iopub.execute_input": "2021-07-10T22:34:24.216405Z",
     "iopub.status.busy": "2021-07-10T22:34:24.215507Z",
     "iopub.status.idle": "2021-07-10T22:34:24.431365Z",
     "shell.execute_reply": "2021-07-10T22:34:24.431880Z",
     "shell.execute_reply.started": "2021-07-10T22:32:02.615486Z"
    },
    "papermill": {
     "duration": 0.402783,
     "end_time": "2021-07-10T22:34:24.432082",
     "exception": false,
     "start_time": "2021-07-10T22:34:24.029299",
     "status": "completed"
    },
    "tags": []
   },
   "outputs": [],
   "source": [
    "# ROC curves of models\n",
    "fpr_lr, tpr_lr, thr_lr = roc_curve(y_test, lr_predict)\n",
    "fpr_svc, tpr_svc, thr_log = roc_curve(y_test, svc_predict)\n",
    "fpr_knn, tpr_knn, thr_knn = roc_curve(y_test, knn_predict)\n",
    "fpr_nb, tpr_nb, thr_log = roc_curve(y_test, nb_predict)\n",
    "fpr_dtc, tpr_dtc, thr_dtc = roc_curve(y_test, dtc_predict)\n",
    "fpr_rfc, tpr_rfc, thr_rfc = roc_curve(y_test, rfc_predict)\n",
    "fpr_xgb, tpr_xgb, thr_log = roc_curve(y_test, xgb_predict)\n",
    "fpr_scv, tpr_scv, thr_scv = roc_curve(y_test, scv_predict)\n",
    "plt.plot([0,1],ls='--')\n",
    "plt.plot([0,0],[1,0],c='.5')\n",
    "plt.plot([1,1],c='.5')\n",
    "plt.plot(fpr_lr, tpr_lr,label = 'LR')\n",
    "plt.plot(fpr_knn, tpr_knn,label = 'KNN')\n",
    "plt.plot(fpr_dtc, tpr_dtc,label = 'DTC')\n",
    "plt.plot(fpr_rfc, tpr_rfc,label = 'RFC')\n",
    "plt.plot(fpr_xgb,tpr_xgb,label= 'XGB')\n",
    "plt.plot(fpr_nb,tpr_nb,label= 'NB')\n",
    "plt.plot(fpr_svc,tpr_svc,label= 'SVC')\n",
    "plt.plot(fpr_scv, tpr_scv,label = 'SCV')\n",
    "plt.xlabel('False Positive Rate')\n",
    "plt.ylabel('True Positive Rate')\n",
    "plt.legend(loc = 'lower right')\n",
    "plt.title('ROC Curve')\n",
    "plt.show()"
   ]
  },
  {
   "cell_type": "code",
   "execution_count": null,
   "id": "unlike-scratch",
   "metadata": {
    "execution": {
     "iopub.execute_input": "2021-07-10T22:34:24.804409Z",
     "iopub.status.busy": "2021-07-10T22:34:24.803468Z",
     "iopub.status.idle": "2021-07-10T22:34:24.931852Z",
     "shell.execute_reply": "2021-07-10T22:34:24.932694Z",
     "shell.execute_reply.started": "2021-07-10T22:32:02.877773Z"
    },
    "papermill": {
     "duration": 0.314764,
     "end_time": "2021-07-10T22:34:24.932958",
     "exception": false,
     "start_time": "2021-07-10T22:34:24.618194",
     "status": "completed"
    },
    "tags": []
   },
   "outputs": [],
   "source": [
    "# Confusion Matrix of Ensemble Model enlarged\n",
    "options = [\"Disease\", 'No Disease']\n",
    "\n",
    "fig, ax = plt.subplots()\n",
    "im = ax.imshow(scv_conf_matrix, cmap= 'Set3', interpolation='nearest')\n",
    "\n",
    "# We want to show all ticks...\n",
    "ax.set_xticks(np.arange(len(options)))\n",
    "ax.set_yticks(np.arange(len(options)))\n",
    "# ... and label them with the respective list entries\n",
    "ax.set_xticklabels(options)\n",
    "ax.set_yticklabels(options)\n",
    "\n",
    "# Rotate the tick labels and set their alignment.\n",
    "plt.setp(ax.get_xticklabels(), rotation=45, ha=\"right\",\n",
    "         rotation_mode=\"anchor\")\n",
    "\n",
    "# Loop over data dimensions and create text annotations.\n",
    "for i in range(len(options)):\n",
    "    for j in range(len(options)):\n",
    "        text = ax.text(j, i, scv_conf_matrix[i, j],\n",
    "                       ha=\"center\", va=\"center\", color=\"black\")\n",
    "\n",
    "ax.set_title(\"Confusion Matrix of Ensemble Model\")\n",
    "fig.tight_layout()\n",
    "plt.xlabel('Model Prediction')\n",
    "plt.ylabel('Actual Result')\n",
    "plt.show()"
   ]
  },
  {
   "cell_type": "markdown",
   "id": "preceding-crisis",
   "metadata": {
    "papermill": {
     "duration": 0.183724,
     "end_time": "2021-07-10T22:34:25.316726",
     "exception": false,
     "start_time": "2021-07-10T22:34:25.133002",
     "status": "completed"
    },
    "tags": []
   },
   "source": [
    "<div style=\"color:white;\n",
    "           display:fill;\n",
    "           border-radius:10px;\n",
    "           font-size:90%;\n",
    "           font-family:serif;\n",
    "           letter-spacing:0.5px;\n",
    "           background-color:#FF0000;\n",
    "           color:GhostWhite;\n",
    "           font-family:Sans-serif;\n",
    "            padding:5px 5px 5px 5px;\n",
    "           \">\n",
    "<h1 style=\"text-align:center;font-weight: bold;\">Conclusion</h1>\n",
    "\n",
    "\n",
    "</div>"
   ]
  },
  {
   "cell_type": "markdown",
   "id": "instructional-maple",
   "metadata": {
    "papermill": {
     "duration": 0.223059,
     "end_time": "2021-07-10T22:34:25.726896",
     "exception": false,
     "start_time": "2021-07-10T22:34:25.503837",
     "status": "completed"
    },
    "tags": []
   },
   "source": [
    "***"
   ]
  },
  {
   "cell_type": "markdown",
   "id": "streaming-writer",
   "metadata": {
    "papermill": {
     "duration": 0.191612,
     "end_time": "2021-07-10T22:34:26.117263",
     "exception": false,
     "start_time": "2021-07-10T22:34:25.925651",
     "status": "completed"
    },
    "tags": []
   },
   "source": [
    "In conclusion, we were able to successfully analyze the data and create a classification model that is able to predict whether or not a patient has heart disease with 90% accuracy. This was accomplished by using an ensemble method that combined two of our best classification models.\n",
    "\n",
    "Thank you for taking the time to read through this notebook! I am a college student trying to get more invovled in the data science community by publishing some of my work online. I am studying biology and data science, so this project seemed like the perfect way to marry my interests. Please let me know if you have any suggestions or criticism as I look to improve my work. [This is my LinkedIn if you would like to connect!](linkedin.com/in/hassan-shah-0b1984205) \n",
    "\n",
    "Let me know if you have any suggestions for future projects!"
   ]
  }
 ],
 "metadata": {
  "kernelspec": {
   "display_name": "Python 3",
   "language": "python",
   "name": "python3"
  },
  "language_info": {
   "codemirror_mode": {
    "name": "ipython",
    "version": 3
   },
   "file_extension": ".py",
   "mimetype": "text/x-python",
   "name": "python",
   "nbconvert_exporter": "python",
   "pygments_lexer": "ipython3",
   "version": "3.8.8"
  },
  "papermill": {
   "default_parameters": {},
   "duration": 77.917387,
   "end_time": "2021-07-10T22:34:28.429675",
   "environment_variables": {},
   "exception": null,
   "input_path": "__notebook__.ipynb",
   "output_path": "__notebook__.ipynb",
   "parameters": {},
   "start_time": "2021-07-10T22:33:10.512288",
   "version": "2.3.3"
  }
 },
 "nbformat": 4,
 "nbformat_minor": 5
}
